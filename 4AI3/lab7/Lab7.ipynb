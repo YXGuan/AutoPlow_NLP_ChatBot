{
  "nbformat": 4,
  "nbformat_minor": 0,
  "metadata": {
    "colab": {
      "provenance": [],
      "collapsed_sections": []
    },
    "kernelspec": {
      "name": "python3",
      "display_name": "Python 3"
    },
    "language_info": {
      "name": "python"
    }
  },
  "cells": [
    {
      "cell_type": "markdown",
      "source": [
        "## Logoistic Regression and sklearn.linear_model.LogisticRegression"
      ],
      "metadata": {
        "id": "eGtMCfBX5jE_"
      }
    },
    {
      "cell_type": "markdown",
      "source": [
        "**Linear Regression: $\\hat{y} = x * w + b$**   \n",
        "**Training loss(MSE Mean Squared Error): $loss = (\\hat{y} - y)^2 = (x * w -y)^2$**\n",
        "\n",
        "**Logistic Funtion: $σ(x) = \\frac{1}{1+e^{-x}}$**  \n",
        "**Logistic Regression：$\\hat{y} = σ(x * w + b)$**   \n",
        "**Training loss(BCE Binary Cross Entropy): $loss = -(ylog\\hat{y} + (1-y)log(1-\\hat{y}))$**\n",
        "\n",
        "\n"
      ],
      "metadata": {
        "id": "-gPYF6nv6zMt"
      }
    },
    {
      "cell_type": "markdown",
      "source": [
        "class sklearn.linear_model.LogisticRegression(penalty='l2', *, dual=False, tol=0.0001, C=1.0, fit_intercept=True, intercept_scaling=1, class_weight=None, random_state=None, solver='lbfgs', max_iter=100, multi_class='auto', verbose=0, warm_start=False, n_jobs=None, l1_ratio=None)\n",
        "\n",
        "#### **For building and hyperparameter tuning an logistic regression classifier, we need to know at least three parameters:**  \n",
        "**penalty:**{‘l1’, ‘l2’, ‘elasticnet’, ‘none’}, default=’l2’\n",
        "Specify the norm of the penalty:\n",
        "* 'none': no penalty is added;\n",
        "* 'l2': add a L2 penalty term and it is the default choice;\n",
        "* 'l1': add a L1 penalty term;\n",
        "* 'elasticnet': both L1 and L2 penalty terms are added.\n",
        "\n",
        "---\n",
        "\n",
        "**C:** float, default=1.0  \n",
        "Inverse of regularization strength; must be a positive float. Like in support vector machines, smaller values specify stronger regularization.\n",
        "\n",
        "---\n",
        "\n",
        "**solver:** {‘newton-cg’, ‘lbfgs’, ‘liblinear’, ‘sag’, ‘saga’}, default=’lbfgs’  \n",
        "Algorithm to use in the optimization problem. Default is ‘lbfgs’. To choose a solver, you might want to consider the following aspects:\n",
        "* For small datasets, ‘liblinear’ is a good choice, whereas ‘sag’ and ‘saga’ are faster for large ones;\n",
        "* For multiclass problems, only ‘newton-cg’, ‘sag’, ‘saga’ and ‘lbfgs’ handle multinomial loss;\n",
        "* ‘liblinear’ is limited to one-versus-rest schemes."
      ],
      "metadata": {
        "id": "1TYyPq8HSsHV"
      }
    },
    {
      "cell_type": "markdown",
      "source": [
        "## Multi-class Classification Demo"
      ],
      "metadata": {
        "id": "oIWhNWXX1NIe"
      }
    },
    {
      "cell_type": "markdown",
      "source": [
        "Import libraries"
      ],
      "metadata": {
        "id": "MDUbBMxE61cI"
      }
    },
    {
      "cell_type": "code",
      "source": [
        "from sklearn import datasets\n",
        "import numpy as np\n",
        "import matplotlib.pyplot as plt"
      ],
      "metadata": {
        "id": "xMIIGOaLbZ4z"
      },
      "execution_count": 2,
      "outputs": []
    },
    {
      "cell_type": "markdown",
      "source": [
        "Load dataset\n",
        "\n",
        "Iris Dataset, a common used machine learning Dataset, provide by UCI: https://archive.ics.uci.edu/ml/datasets/iris\n",
        "\n",
        "The data set contains 3 classes of 50 instances each, where each class refers to a type of iris plant. \n",
        "\n",
        "**Number of Instances:** 150\n",
        "\n",
        "**Attribute Information:**\n",
        "\n",
        "1. sepal length in cm\n",
        "2. sepal width in cm\n",
        "3. petal length in cm\n",
        "4. petal width in cm\n",
        "5. class:  Iris Setosa; Iris Versicolour; Iris Virginica"
      ],
      "metadata": {
        "id": "QsWYePRr7KqB"
      }
    },
    {
      "cell_type": "code",
      "source": [
        "iris = datasets.load_iris()"
      ],
      "metadata": {
        "id": "eQ3JHAtQbc-D"
      },
      "execution_count": 8,
      "outputs": []
    },
    {
      "cell_type": "code",
      "source": [
        "X = iris.data[:,:2]\n",
        "y = iris.target"
      ],
      "metadata": {
        "id": "B9xX9JQRiDGt"
      },
      "execution_count": 9,
      "outputs": []
    },
    {
      "cell_type": "code",
      "source": [
        "print(X.shape)\n",
        "print(y.shape)"
      ],
      "metadata": {
        "colab": {
          "base_uri": "https://localhost:8080/"
        },
        "id": "zV1vMfrykep3",
        "outputId": "8b670f5f-de81-4d8a-e065-31c5c5ffbc19"
      },
      "execution_count": 10,
      "outputs": [
        {
          "output_type": "stream",
          "name": "stdout",
          "text": [
            "(150, 2)\n",
            "(150,)\n"
          ]
        }
      ]
    },
    {
      "cell_type": "markdown",
      "source": [
        "Normalization"
      ],
      "metadata": {
        "id": "1euWr7c69H9k"
      }
    },
    {
      "cell_type": "code",
      "source": [
        "mean = X.mean(axis=0)\n",
        "std = X.std(axis=0)\n",
        "X = (X - mean) / std"
      ],
      "metadata": {
        "id": "bhQNWporHaZd"
      },
      "execution_count": 12,
      "outputs": []
    },
    {
      "cell_type": "code",
      "source": [
        "from sklearn.preprocessing import StandardScaler\n",
        "scaler = StandardScaler()\n",
        "X_train_scaled = scaler.fit_transform(X)"
      ],
      "metadata": {
        "id": "h6V9lTHG9r-Z"
      },
      "execution_count": 11,
      "outputs": []
    },
    {
      "cell_type": "code",
      "source": [
        "X_train_scaled == X"
      ],
      "metadata": {
        "id": "RePKIXYc-UFt"
      },
      "execution_count": null,
      "outputs": []
    },
    {
      "cell_type": "markdown",
      "source": [
        "Data visualization"
      ],
      "metadata": {
        "id": "TgPZzfYm9ntE"
      }
    },
    {
      "cell_type": "code",
      "source": [
        "class0 = X[np.where(y == 0)]\n",
        "class1 = X[np.where(y == 1)]\n",
        "class2 = X[np.where(y == 2)]"
      ],
      "metadata": {
        "id": "aKBJNTLACjkv"
      },
      "execution_count": 15,
      "outputs": []
    },
    {
      "cell_type": "code",
      "source": [
        "plt.scatter(class0[:,0], class0[:,1], color='green', marker=\"+\")\n",
        "plt.scatter(class1[:,0], class1[:,1], color='blue', marker='.')\n",
        "plt.scatter(class2[:,0], class2[:,1], color='red', marker='*')\n",
        "plt.xlabel('sepal length')\n",
        "plt.ylabel('sepal width')"
      ],
      "metadata": {
        "colab": {
          "base_uri": "https://localhost:8080/",
          "height": 297
        },
        "id": "of3H4v20CCfV",
        "outputId": "7202f322-5712-4c4c-ad5b-61ec509b9f01"
      },
      "execution_count": 16,
      "outputs": [
        {
          "output_type": "execute_result",
          "data": {
            "text/plain": [
              "Text(0, 0.5, 'sepal width')"
            ]
          },
          "metadata": {},
          "execution_count": 16
        },
        {
          "output_type": "display_data",
          "data": {
            "text/plain": [
              "<Figure size 432x288 with 1 Axes>"
            ],
            "image/png": "[encoded data removed]"
          },
          "metadata": {
            "needs_background": "light"
          }
        }
      ]
    },
    {
      "cell_type": "markdown",
      "source": [
        "Split data"
      ],
      "metadata": {
        "id": "SdMbtCx4-lkz"
      }
    },
    {
      "cell_type": "code",
      "source": [
        "from sklearn.model_selection import train_test_split"
      ],
      "metadata": {
        "id": "Z2uAWSES_RjF"
      },
      "execution_count": 17,
      "outputs": []
    },
    {
      "cell_type": "code",
      "source": [
        "X_train, X_test, y_train, y_test = train_test_split(X, y, test_size=0.2, random_state=10)"
      ],
      "metadata": {
        "id": "2_8gHnpy_WZt"
      },
      "execution_count": 18,
      "outputs": []
    },
    {
      "cell_type": "markdown",
      "source": [
        "Build Logistic Regression Classifier"
      ],
      "metadata": {
        "id": "kLt1e3fG_Ab6"
      }
    },
    {
      "cell_type": "code",
      "source": [
        "from sklearn.linear_model import LogisticRegression"
      ],
      "metadata": {
        "id": "6opYcH5Y-8rm"
      },
      "execution_count": 19,
      "outputs": []
    },
    {
      "cell_type": "code",
      "source": [
        "LR_clf = LogisticRegression()"
      ],
      "metadata": {
        "id": "xCVo8TDL_Fku"
      },
      "execution_count": 20,
      "outputs": []
    },
    {
      "cell_type": "markdown",
      "source": [
        "Trian the model"
      ],
      "metadata": {
        "id": "Q4rjPgFLArv7"
      }
    },
    {
      "cell_type": "code",
      "source": [
        "LR_clf.fit(X_train, y_train)"
      ],
      "metadata": {
        "colab": {
          "base_uri": "https://localhost:8080/"
        },
        "id": "_6d0MjOR_NwQ",
        "outputId": "5e3eb7bc-b84c-4791-f99c-9a7dba4d50be"
      },
      "execution_count": 21,
      "outputs": [
        {
          "output_type": "execute_result",
          "data": {
            "text/plain": [
              "LogisticRegression()"
            ]
          },
          "metadata": {},
          "execution_count": 21
        }
      ]
    },
    {
      "cell_type": "markdown",
      "source": [
        "Test the model"
      ],
      "metadata": {
        "id": "OjmnNPzKAvjJ"
      }
    },
    {
      "cell_type": "code",
      "source": [
        "LR_clf.score(X_test, y_test)"
      ],
      "metadata": {
        "colab": {
          "base_uri": "https://localhost:8080/"
        },
        "id": "aNeelcz8_xSv",
        "outputId": "8e0eba0d-960e-432d-dc79-ee03d4096eb1"
      },
      "execution_count": 22,
      "outputs": [
        {
          "output_type": "execute_result",
          "data": {
            "text/plain": [
              "0.8666666666666667"
            ]
          },
          "metadata": {},
          "execution_count": 22
        }
      ]
    },
    {
      "cell_type": "markdown",
      "source": [
        "Decision Boundary visualization"
      ],
      "metadata": {
        "id": "z8zoa-PVAzLx"
      }
    },
    {
      "cell_type": "code",
      "source": [
        "x1_min, x1_max = X[:, 0].min() -1, X[:, 0].max() + 1\n",
        "x2_min, x2_max = X[:, 1].min() -1, X[:, 1].max() + 1\n",
        "h = 0.02\n",
        "xx, yy = np.meshgrid(np.arange(x1_min, x1_max, h), np.arange(x2_min, x2_max, h))\n",
        "z = LR_clf.predict(np.c_[xx.ravel(), yy.ravel()])\n",
        "z = z.reshape(xx.shape)\n",
        "plt.contourf(xx, yy, z, cmap=plt.cm.jet, alpha=0.3)\n",
        "plt.scatter(X[np.where(y == 0)[0], 0], X[np.where(y == 0)[0], 1], color='green', marker=\"x\")\n",
        "plt.scatter(X[np.where(y == 1)[0], 0], X[np.where(y == 1)[0], 1], color='blue', marker='.')\n",
        "plt.scatter(X[np.where(y == 2)[0], 0], X[np.where(y == 2)[0], 1], color='red', marker='*')\n",
        "plt.show()"
      ],
      "metadata": {
        "colab": {
          "base_uri": "https://localhost:8080/",
          "height": 267
        },
        "id": "-ji9k3xc_3I8",
        "outputId": "67ac1f3b-e053-4a73-aa25-f51ae1a52058"
      },
      "execution_count": 23,
      "outputs": [
        {
          "output_type": "display_data",
          "data": {
            "text/plain": [
              "<Figure size 432x288 with 1 Axes>"
            ],
            "image/png": "[encoded data removed]"
          },
          "metadata": {
            "needs_background": "light"
          }
        }
      ]
    }
  ]
}